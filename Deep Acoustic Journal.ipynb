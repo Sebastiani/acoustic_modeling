{
 "cells": [
  {
   "cell_type": "markdown",
   "metadata": {},
   "source": [
    "# Summary of Data"
   ]
  },
  {
   "cell_type": "code",
   "execution_count": 7,
   "metadata": {
    "collapsed": false
   },
   "outputs": [
    {
     "name": "stderr",
     "output_type": "stream",
     "text": [
      "Using TensorFlow backend.\n"
     ]
    }
   ],
   "source": [
    "import wavio\n",
    "import scipy.fftpack\n",
    "import pandas as pd\n",
    "import numpy as np\n",
    "import matplotlib.pyplot as plt\n",
    "import keras.backend as K\n",
    "from sklearn.preprocessing import LabelEncoder\n",
    "from keras.utils import to_categorical\n",
    "from keras.models import Sequential\n",
    "from keras.layers.wrappers import TimeDistributed, Bidirectional\n",
    "from keras.layers.recurrent import LSTM\n",
    "from keras.layers import Dense, Activation, Input\n",
    "from keras.layers.advanced_activations import LeakyReLU\n",
    "%matplotlib inline\n",
    "\n",
    "\n",
    "\n",
    "plt.style.use('bmh')\n",
    "plt.rcParams['font.family'] = 'serif'\n",
    "plt.rcParams['font.serif'] = 'Ubuntu'\n",
    "plt.rcParams['font.monospace'] = 'Ubuntu Mono'\n",
    "plt.rcParams['font.size'] = 10\n",
    "plt.rcParams['axes.labelsize'] = 10\n",
    "plt.rcParams['axes.labelweight'] = 'bold'\n",
    "plt.rcParams['axes.titlesize'] = 10\n",
    "plt.rcParams['xtick.labelsize'] = 8\n",
    "plt.rcParams['ytick.labelsize'] = 8\n",
    "plt.rcParams['legend.fontsize'] = 10\n",
    "plt.rcParams['figure.titlesize'] = 12\n",
    "plt.rcParams['figure.facecolor'] = 'white'\n",
    "\n"
   ]
  },
  {
   "cell_type": "code",
   "execution_count": 8,
   "metadata": {
    "collapsed": false
   },
   "outputs": [],
   "source": [
    "df = pd.read_table(\"/home/asura/Downloads/acoustic_modelling/TUT-acoustic-scenes-2016-development.meta/TUT-acoustic-scenes-2016-development/meta.csv\")"
   ]
  },
  {
   "cell_type": "code",
   "execution_count": 9,
   "metadata": {
    "collapsed": false
   },
   "outputs": [
    {
     "data": {
      "text/html": [
       "<div>\n",
       "<table border=\"1\" class=\"dataframe\">\n",
       "  <thead>\n",
       "    <tr style=\"text-align: right;\">\n",
       "      <th></th>\n",
       "      <th>name</th>\n",
       "      <th>class</th>\n",
       "    </tr>\n",
       "  </thead>\n",
       "  <tbody>\n",
       "    <tr>\n",
       "      <th>0</th>\n",
       "      <td>audio/a001_0_30.wav</td>\n",
       "      <td>residential_area</td>\n",
       "    </tr>\n",
       "    <tr>\n",
       "      <th>1</th>\n",
       "      <td>audio/a001_120_150.wav</td>\n",
       "      <td>residential_area</td>\n",
       "    </tr>\n",
       "    <tr>\n",
       "      <th>2</th>\n",
       "      <td>audio/a001_150_180.wav</td>\n",
       "      <td>residential_area</td>\n",
       "    </tr>\n",
       "    <tr>\n",
       "      <th>3</th>\n",
       "      <td>audio/a001_30_60.wav</td>\n",
       "      <td>residential_area</td>\n",
       "    </tr>\n",
       "    <tr>\n",
       "      <th>4</th>\n",
       "      <td>audio/a001_60_90.wav</td>\n",
       "      <td>residential_area</td>\n",
       "    </tr>\n",
       "    <tr>\n",
       "      <th>5</th>\n",
       "      <td>audio/a001_90_120.wav</td>\n",
       "      <td>residential_area</td>\n",
       "    </tr>\n",
       "    <tr>\n",
       "      <th>6</th>\n",
       "      <td>audio/a003_0_30.wav</td>\n",
       "      <td>residential_area</td>\n",
       "    </tr>\n",
       "    <tr>\n",
       "      <th>7</th>\n",
       "      <td>audio/a003_120_150.wav</td>\n",
       "      <td>residential_area</td>\n",
       "    </tr>\n",
       "    <tr>\n",
       "      <th>8</th>\n",
       "      <td>audio/a003_150_180.wav</td>\n",
       "      <td>residential_area</td>\n",
       "    </tr>\n",
       "    <tr>\n",
       "      <th>9</th>\n",
       "      <td>audio/a003_180_210.wav</td>\n",
       "      <td>residential_area</td>\n",
       "    </tr>\n",
       "    <tr>\n",
       "      <th>10</th>\n",
       "      <td>audio/a003_210_240.wav</td>\n",
       "      <td>residential_area</td>\n",
       "    </tr>\n",
       "    <tr>\n",
       "      <th>11</th>\n",
       "      <td>audio/a003_30_60.wav</td>\n",
       "      <td>residential_area</td>\n",
       "    </tr>\n",
       "    <tr>\n",
       "      <th>12</th>\n",
       "      <td>audio/a003_60_90.wav</td>\n",
       "      <td>residential_area</td>\n",
       "    </tr>\n",
       "    <tr>\n",
       "      <th>13</th>\n",
       "      <td>audio/a003_90_120.wav</td>\n",
       "      <td>residential_area</td>\n",
       "    </tr>\n",
       "    <tr>\n",
       "      <th>14</th>\n",
       "      <td>audio/a005_0_30.wav</td>\n",
       "      <td>city_center</td>\n",
       "    </tr>\n",
       "    <tr>\n",
       "      <th>15</th>\n",
       "      <td>audio/a005_150_180.wav</td>\n",
       "      <td>city_center</td>\n",
       "    </tr>\n",
       "    <tr>\n",
       "      <th>16</th>\n",
       "      <td>audio/a005_210_240.wav</td>\n",
       "      <td>city_center</td>\n",
       "    </tr>\n",
       "    <tr>\n",
       "      <th>17</th>\n",
       "      <td>audio/a005_30_60.wav</td>\n",
       "      <td>city_center</td>\n",
       "    </tr>\n",
       "    <tr>\n",
       "      <th>18</th>\n",
       "      <td>audio/a005_60_90.wav</td>\n",
       "      <td>city_center</td>\n",
       "    </tr>\n",
       "    <tr>\n",
       "      <th>19</th>\n",
       "      <td>audio/a005_90_120.wav</td>\n",
       "      <td>city_center</td>\n",
       "    </tr>\n",
       "    <tr>\n",
       "      <th>20</th>\n",
       "      <td>audio/a006_0_30.wav</td>\n",
       "      <td>beach</td>\n",
       "    </tr>\n",
       "    <tr>\n",
       "      <th>21</th>\n",
       "      <td>audio/a006_150_180.wav</td>\n",
       "      <td>beach</td>\n",
       "    </tr>\n",
       "    <tr>\n",
       "      <th>22</th>\n",
       "      <td>audio/a006_30_60.wav</td>\n",
       "      <td>beach</td>\n",
       "    </tr>\n",
       "    <tr>\n",
       "      <th>23</th>\n",
       "      <td>audio/a006_60_90.wav</td>\n",
       "      <td>beach</td>\n",
       "    </tr>\n",
       "    <tr>\n",
       "      <th>24</th>\n",
       "      <td>audio/a006_90_120.wav</td>\n",
       "      <td>beach</td>\n",
       "    </tr>\n",
       "    <tr>\n",
       "      <th>25</th>\n",
       "      <td>audio/a009_0_30.wav</td>\n",
       "      <td>residential_area</td>\n",
       "    </tr>\n",
       "    <tr>\n",
       "      <th>26</th>\n",
       "      <td>audio/a009_120_150.wav</td>\n",
       "      <td>residential_area</td>\n",
       "    </tr>\n",
       "    <tr>\n",
       "      <th>27</th>\n",
       "      <td>audio/a009_150_180.wav</td>\n",
       "      <td>residential_area</td>\n",
       "    </tr>\n",
       "    <tr>\n",
       "      <th>28</th>\n",
       "      <td>audio/a009_180_210.wav</td>\n",
       "      <td>residential_area</td>\n",
       "    </tr>\n",
       "    <tr>\n",
       "      <th>29</th>\n",
       "      <td>audio/a009_30_60.wav</td>\n",
       "      <td>residential_area</td>\n",
       "    </tr>\n",
       "    <tr>\n",
       "      <th>...</th>\n",
       "      <td>...</td>\n",
       "      <td>...</td>\n",
       "    </tr>\n",
       "    <tr>\n",
       "      <th>1140</th>\n",
       "      <td>audio/b112_143_173.wav</td>\n",
       "      <td>bus</td>\n",
       "    </tr>\n",
       "    <tr>\n",
       "      <th>1141</th>\n",
       "      <td>audio/b112_173_203.wav</td>\n",
       "      <td>bus</td>\n",
       "    </tr>\n",
       "    <tr>\n",
       "      <th>1142</th>\n",
       "      <td>audio/b112_203_233.wav</td>\n",
       "      <td>bus</td>\n",
       "    </tr>\n",
       "    <tr>\n",
       "      <th>1143</th>\n",
       "      <td>audio/b112_30_60.wav</td>\n",
       "      <td>bus</td>\n",
       "    </tr>\n",
       "    <tr>\n",
       "      <th>1144</th>\n",
       "      <td>audio/b112_60_90.wav</td>\n",
       "      <td>bus</td>\n",
       "    </tr>\n",
       "    <tr>\n",
       "      <th>1145</th>\n",
       "      <td>audio/b113_0_30.wav</td>\n",
       "      <td>office</td>\n",
       "    </tr>\n",
       "    <tr>\n",
       "      <th>1146</th>\n",
       "      <td>audio/b113_120_150.wav</td>\n",
       "      <td>office</td>\n",
       "    </tr>\n",
       "    <tr>\n",
       "      <th>1147</th>\n",
       "      <td>audio/b113_150_180.wav</td>\n",
       "      <td>office</td>\n",
       "    </tr>\n",
       "    <tr>\n",
       "      <th>1148</th>\n",
       "      <td>audio/b113_180_210.wav</td>\n",
       "      <td>office</td>\n",
       "    </tr>\n",
       "    <tr>\n",
       "      <th>1149</th>\n",
       "      <td>audio/b113_210_240.wav</td>\n",
       "      <td>office</td>\n",
       "    </tr>\n",
       "    <tr>\n",
       "      <th>1150</th>\n",
       "      <td>audio/b113_240_270.wav</td>\n",
       "      <td>office</td>\n",
       "    </tr>\n",
       "    <tr>\n",
       "      <th>1151</th>\n",
       "      <td>audio/b113_270_300.wav</td>\n",
       "      <td>office</td>\n",
       "    </tr>\n",
       "    <tr>\n",
       "      <th>1152</th>\n",
       "      <td>audio/b113_30_60.wav</td>\n",
       "      <td>office</td>\n",
       "    </tr>\n",
       "    <tr>\n",
       "      <th>1153</th>\n",
       "      <td>audio/b113_60_90.wav</td>\n",
       "      <td>office</td>\n",
       "    </tr>\n",
       "    <tr>\n",
       "      <th>1154</th>\n",
       "      <td>audio/b113_90_120.wav</td>\n",
       "      <td>office</td>\n",
       "    </tr>\n",
       "    <tr>\n",
       "      <th>1155</th>\n",
       "      <td>audio/b115_0_30.wav</td>\n",
       "      <td>office</td>\n",
       "    </tr>\n",
       "    <tr>\n",
       "      <th>1156</th>\n",
       "      <td>audio/b115_120_150.wav</td>\n",
       "      <td>office</td>\n",
       "    </tr>\n",
       "    <tr>\n",
       "      <th>1157</th>\n",
       "      <td>audio/b115_180_210.wav</td>\n",
       "      <td>office</td>\n",
       "    </tr>\n",
       "    <tr>\n",
       "      <th>1158</th>\n",
       "      <td>audio/b115_210_240.wav</td>\n",
       "      <td>office</td>\n",
       "    </tr>\n",
       "    <tr>\n",
       "      <th>1159</th>\n",
       "      <td>audio/b115_240_270.wav</td>\n",
       "      <td>office</td>\n",
       "    </tr>\n",
       "    <tr>\n",
       "      <th>1160</th>\n",
       "      <td>audio/b115_30_60.wav</td>\n",
       "      <td>office</td>\n",
       "    </tr>\n",
       "    <tr>\n",
       "      <th>1161</th>\n",
       "      <td>audio/b115_60_90.wav</td>\n",
       "      <td>office</td>\n",
       "    </tr>\n",
       "    <tr>\n",
       "      <th>1162</th>\n",
       "      <td>audio/b116_0_30.wav</td>\n",
       "      <td>office</td>\n",
       "    </tr>\n",
       "    <tr>\n",
       "      <th>1163</th>\n",
       "      <td>audio/b116_120_150.wav</td>\n",
       "      <td>office</td>\n",
       "    </tr>\n",
       "    <tr>\n",
       "      <th>1164</th>\n",
       "      <td>audio/b116_150_180.wav</td>\n",
       "      <td>office</td>\n",
       "    </tr>\n",
       "    <tr>\n",
       "      <th>1165</th>\n",
       "      <td>audio/b116_180_210.wav</td>\n",
       "      <td>office</td>\n",
       "    </tr>\n",
       "    <tr>\n",
       "      <th>1166</th>\n",
       "      <td>audio/b116_240_270.wav</td>\n",
       "      <td>office</td>\n",
       "    </tr>\n",
       "    <tr>\n",
       "      <th>1167</th>\n",
       "      <td>audio/b116_30_60.wav</td>\n",
       "      <td>office</td>\n",
       "    </tr>\n",
       "    <tr>\n",
       "      <th>1168</th>\n",
       "      <td>audio/b116_60_90.wav</td>\n",
       "      <td>office</td>\n",
       "    </tr>\n",
       "    <tr>\n",
       "      <th>1169</th>\n",
       "      <td>audio/b116_90_120.wav</td>\n",
       "      <td>office</td>\n",
       "    </tr>\n",
       "  </tbody>\n",
       "</table>\n",
       "<p>1170 rows × 2 columns</p>\n",
       "</div>"
      ],
      "text/plain": [
       "                        name             class\n",
       "0        audio/a001_0_30.wav  residential_area\n",
       "1     audio/a001_120_150.wav  residential_area\n",
       "2     audio/a001_150_180.wav  residential_area\n",
       "3       audio/a001_30_60.wav  residential_area\n",
       "4       audio/a001_60_90.wav  residential_area\n",
       "5      audio/a001_90_120.wav  residential_area\n",
       "6        audio/a003_0_30.wav  residential_area\n",
       "7     audio/a003_120_150.wav  residential_area\n",
       "8     audio/a003_150_180.wav  residential_area\n",
       "9     audio/a003_180_210.wav  residential_area\n",
       "10    audio/a003_210_240.wav  residential_area\n",
       "11      audio/a003_30_60.wav  residential_area\n",
       "12      audio/a003_60_90.wav  residential_area\n",
       "13     audio/a003_90_120.wav  residential_area\n",
       "14       audio/a005_0_30.wav       city_center\n",
       "15    audio/a005_150_180.wav       city_center\n",
       "16    audio/a005_210_240.wav       city_center\n",
       "17      audio/a005_30_60.wav       city_center\n",
       "18      audio/a005_60_90.wav       city_center\n",
       "19     audio/a005_90_120.wav       city_center\n",
       "20       audio/a006_0_30.wav             beach\n",
       "21    audio/a006_150_180.wav             beach\n",
       "22      audio/a006_30_60.wav             beach\n",
       "23      audio/a006_60_90.wav             beach\n",
       "24     audio/a006_90_120.wav             beach\n",
       "25       audio/a009_0_30.wav  residential_area\n",
       "26    audio/a009_120_150.wav  residential_area\n",
       "27    audio/a009_150_180.wav  residential_area\n",
       "28    audio/a009_180_210.wav  residential_area\n",
       "29      audio/a009_30_60.wav  residential_area\n",
       "...                      ...               ...\n",
       "1140  audio/b112_143_173.wav               bus\n",
       "1141  audio/b112_173_203.wav               bus\n",
       "1142  audio/b112_203_233.wav               bus\n",
       "1143    audio/b112_30_60.wav               bus\n",
       "1144    audio/b112_60_90.wav               bus\n",
       "1145     audio/b113_0_30.wav            office\n",
       "1146  audio/b113_120_150.wav            office\n",
       "1147  audio/b113_150_180.wav            office\n",
       "1148  audio/b113_180_210.wav            office\n",
       "1149  audio/b113_210_240.wav            office\n",
       "1150  audio/b113_240_270.wav            office\n",
       "1151  audio/b113_270_300.wav            office\n",
       "1152    audio/b113_30_60.wav            office\n",
       "1153    audio/b113_60_90.wav            office\n",
       "1154   audio/b113_90_120.wav            office\n",
       "1155     audio/b115_0_30.wav            office\n",
       "1156  audio/b115_120_150.wav            office\n",
       "1157  audio/b115_180_210.wav            office\n",
       "1158  audio/b115_210_240.wav            office\n",
       "1159  audio/b115_240_270.wav            office\n",
       "1160    audio/b115_30_60.wav            office\n",
       "1161    audio/b115_60_90.wav            office\n",
       "1162     audio/b116_0_30.wav            office\n",
       "1163  audio/b116_120_150.wav            office\n",
       "1164  audio/b116_150_180.wav            office\n",
       "1165  audio/b116_180_210.wav            office\n",
       "1166  audio/b116_240_270.wav            office\n",
       "1167    audio/b116_30_60.wav            office\n",
       "1168    audio/b116_60_90.wav            office\n",
       "1169   audio/b116_90_120.wav            office\n",
       "\n",
       "[1170 rows x 2 columns]"
      ]
     },
     "execution_count": 9,
     "metadata": {},
     "output_type": "execute_result"
    }
   ],
   "source": [
    "df"
   ]
  },
  {
   "cell_type": "markdown",
   "metadata": {},
   "source": [
    "## Reading the Sound File"
   ]
  },
  {
   "cell_type": "code",
   "execution_count": 18,
   "metadata": {
    "collapsed": false
   },
   "outputs": [],
   "source": [
    "signal = wavio.read(\"TUT-acoustic-scenes-2016-development.audio.1/TUT-acoustic-scenes-2016-development/audio/a001_90_120.wav\")"
   ]
  },
  {
   "cell_type": "markdown",
   "metadata": {},
   "source": [
    "### Sound Signal Parameters"
   ]
  },
  {
   "cell_type": "code",
   "execution_count": 19,
   "metadata": {
    "collapsed": false
   },
   "outputs": [
    {
     "name": "stdout",
     "output_type": "stream",
     "text": [
      "The parameters for the sound signals are:\n",
      "\n",
      "\tNumber of Samples: 1323001\n",
      "\tChannels: 2\n",
      "\tSampling Frequency 44100\n",
      "\tSampling Width: 3 \n"
     ]
    }
   ],
   "source": [
    "(n_samples, n_channels) =  signal.data.shape\n",
    "rate = signal.rate\n",
    "sampwidth = signal.sampwidth\n",
    "\n",
    "print \"\"\"The parameters for the sound signals are:\n",
    "\\n\\tNumber of Samples: %d\\n\\tChannels: %d\\n\\tSampling Frequency %d\\n\\tSampling Width: %d \"\"\" % (n_samples, n_channels, rate, sampwidth)"
   ]
  },
  {
   "cell_type": "markdown",
   "metadata": {},
   "source": [
    "## Plots of the Tone"
   ]
  },
  {
   "cell_type": "code",
   "execution_count": 5,
   "metadata": {
    "collapsed": false
   },
   "outputs": [
    {
     "data": {
      "text/plain": [
       "<matplotlib.text.Text at 0x7f02faf620d0>"
      ]
     },
     "execution_count": 5,
     "metadata": {},
     "output_type": "execute_result"
    },
    {
     "name": "stderr",
     "output_type": "stream",
     "text": [
      "/home/asura/py2env/lib/python2.7/site-packages/matplotlib/font_manager.py:1288: UserWarning: findfont: Font family [u'serif'] not found. Falling back to Bitstream Vera Sans\n",
      "  (prop.get_family(), self.defaultFamily[fontext]))\n"
     ]
    },
    {
     "data": {
      "image/png": "[encoded data removed]",
      "text/plain": [
       "<matplotlib.figure.Figure at 0x7f0324a4a3d0>"
      ]
     },
     "metadata": {},
     "output_type": "display_data"
    }
   ],
   "source": [
    "data = signal.data/((2.** 23) -1)\n",
    "time = np.arange(0, n_samples, 1).astype('float')/rate\n",
    "plt.plot(time, data[:,0])\n",
    "plt.xlabel('Time (s)')\n",
    "plt.ylabel('Channel #1 Amplitude')\n",
    "plt.title('Tone Plot')\n"
   ]
  },
  {
   "cell_type": "code",
   "execution_count": 6,
   "metadata": {
    "collapsed": false
   },
   "outputs": [
    {
     "data": {
      "text/plain": [
       "<matplotlib.text.Text at 0x7f02fae5db10>"
      ]
     },
     "execution_count": 6,
     "metadata": {},
     "output_type": "execute_result"
    },
    {
     "data": {
      "image/png": "[encoded data removed]",
      "text/plain": [
       "<matplotlib.figure.Figure at 0x7f02fb2aaad0>"
      ]
     },
     "metadata": {},
     "output_type": "display_data"
    }
   ],
   "source": [
    "plt.plot(time, data[:,1])\n",
    "plt.xlabel('Time (s)')\n",
    "plt.ylabel('Channel #2 Amplitude')\n",
    "plt.title('Tone Plot')"
   ]
  },
  {
   "cell_type": "markdown",
   "metadata": {},
   "source": [
    "## Frequency Spectrum of the Signals"
   ]
  },
  {
   "cell_type": "code",
   "execution_count": null,
   "metadata": {
    "collapsed": false
   },
   "outputs": [],
   "source": [
    "F1 = scipy.fftpack.fft(data[0:-2, 0])\n",
    "nUniquePts = int(np.ceil((n_samples+1)/2.0))\n",
    "F1 = np.abs(F1[0:nUniquePts])\n",
    "freqArray = np.arange(0, nUniquePts, 1.0) * (rate / n_samples);\n",
    "\n",
    "plt.plot(freqArray, F1)\n",
    "plt.xlabel('Frequency (Hz)')\n",
    "plt.ylabel('Amplitude')\n",
    "plt.title('FFT of Signal (Channel #1)')"
   ]
  },
  {
   "cell_type": "code",
   "execution_count": null,
   "metadata": {
    "collapsed": true
   },
   "outputs": [],
   "source": [
    "F2 = scipy.fftpack.fft(data[0:-2, 1])\n",
    "nUniquePts = int(ceil((n_samples+1)/2.0))\n",
    "F2 = np.abs(F2[0:nUniquePts])\n",
    "freqArray = np.arange(0, nUniquePts, 1.0) * (rate / n_samples);\n",
    "\n",
    "plt.plot(freqArray, F2)\n",
    "plt.xlabel('Frequency (Hz)')\n",
    "plt.ylabel('Amplitude')\n",
    "plt.title('FFT of Signal (Channel #2)')"
   ]
  },
  {
   "cell_type": "markdown",
   "metadata": {},
   "source": [
    "# Creating Window Sequence from Signal"
   ]
  },
  {
   "cell_type": "code",
   "execution_count": 15,
   "metadata": {
    "collapsed": true
   },
   "outputs": [],
   "source": [
    "def sliding_window(signal, length, stride):\n",
    "    (n_samples, n_channels) = signal.shape\n",
    "    result = []\n",
    "    \n",
    "    for t in range(n_samples):\n",
    "        step = stride*t\n",
    "        try:\n",
    "            window = signal[step: step +length, :]\n",
    "            result.append(window)\n",
    "        except IndexError:\n",
    "            if step < n_samples:\n",
    "                pad_length = n_samples - step\n",
    "                pad = np.zeros((int(pad_length), n_channels))\n",
    "                window = np.concatenate((signal[step:-1, :], pad), axis=0)\n",
    "                result.append(window)\n",
    "            break\n",
    "    result = np.dstack(result)\n",
    "    return result\n",
    "                \n",
    "    \n",
    "\n",
    "def create_time_windows(signal, sampling_freq, time_window):\n",
    "    \"\"\"\n",
    "    INPUTS:  signal -> np.array of size (n_samples, n_channels) containing interesting sequence\n",
    "             sampling_freq -> np.int that is Frequency used for sampling the signal in (samples/s or Hz)\n",
    "             time_window -> np.int that is the time length in seconds of the signal windows\n",
    "    \"\"\"          \n",
    "    (n_samples, n_channels) = signal.shape\n",
    "    window_size = round(sampling_freq*time_window)\n",
    "    num_windows = round((n_samples/window_size))\n",
    "    pad_size = n_samples - num_windows*window_size\n",
    "    difference = abs(window_size - pad_size)\n",
    "    if difference < 100:\n",
    "        padding = np.zeros((int(pad_size), n_channels))\n",
    "        signal = np.concatenate((signal, padding), axis=0)\n",
    "        return np.dstack(np.array_split(signal, int(num_windows)))\n",
    "    else:\n",
    "        signal = signal[0:n_samples-int(pad_size),:]\n",
    "        return np.dstack(np.array_split(signal, int(num_windows)))\n",
    "    \n",
    "def windowize(df, sampling_freq=44100, time_window=3):\n",
    "    result = []\n",
    "    i=0\n",
    "    for index, row in df.iterrows():\n",
    "        \n",
    "        #filename = row['name'].split('/')\n",
    "        signal = wavio.read(row['name'])\n",
    "        sig = create_time_windows(signal.data, sampling_freq, time_window)\n",
    "        #sig = sliding_window(signal.data, 10000, 2000)\n",
    "        result.append(sig)\n",
    "        i +=1\n",
    "        if i > 10:\n",
    "            break\n",
    "        \n",
    "    result = np.stack(result, axis=3)    \n",
    "    result = np.swapaxes(result, 0, 3)\n",
    "    result = np.swapaxes(result, 1, 2)\n",
    "    result = np.swapaxes(result, 3, 2)\n",
    "    \n",
    "    return result"
   ]
  },
  {
   "cell_type": "markdown",
   "metadata": {
    "collapsed": true
   },
   "source": [
    "# Making CRNN Model"
   ]
  },
  {
   "cell_type": "code",
   "execution_count": 24,
   "metadata": {
    "collapsed": true
   },
   "outputs": [],
   "source": [
    "def build_model(batch_size=30, windows=10, timesteps=120000, features=2):\n",
    "    \n",
    "    model = Sequential([\n",
    "        TimeDistributed(Bidirectional(LSTM(200, return_sequences=False, stateful=True), merge_mode='sum'), batch_input_shape=(batch_size, windows, timesteps, features)),\n",
    "        LSTM(300, return_sequences=False, stateful=True),\n",
    "        Dense(100, kernel_initializer='glorot_uniform'),\n",
    "        LeakyReLU(alpha=0.01),\n",
    "        Dense(15, kernel_initializer='glorot_uniform'),\n",
    "        Activation('softmax')\n",
    "    ])\n",
    "    \n",
    "    model.compile(optimizer='rmsprop',\n",
    "              loss='categorical_crossentropy',\n",
    "              metrics=['accuracy'])\n",
    "    \n",
    "    return model"
   ]
  },
  {
   "cell_type": "code",
   "execution_count": 179,
   "metadata": {
    "collapsed": false
   },
   "outputs": [],
   "source": [
    "x = windowize(df, rate, 3)\n",
    "le = LabelEncoder()\n",
    "le.fit(np.squeeze([df['class']]))\n",
    "labels_num = le.transform(np.squeeze([df['class']]))\n",
    "cat_labels = to_categorical(labels_num, num_classes=15)"
   ]
  },
  {
   "cell_type": "code",
   "execution_count": 23,
   "metadata": {
    "collapsed": false
   },
   "outputs": [
    {
     "name": "stderr",
     "output_type": "stream",
     "text": [
      "/home/asura/py2env/lib/python2.7/site-packages/keras/legacy/interfaces.py:86: UserWarning: Update your `Dense` call to the Keras 2 API: `Dense(100, kernel_initializer=\"glorot_uniform\")`\n",
      "  '` call to the Keras 2 API: ' + signature)\n",
      "/home/asura/py2env/lib/python2.7/site-packages/keras/legacy/interfaces.py:86: UserWarning: Update your `Dense` call to the Keras 2 API: `Dense(15, kernel_initializer=\"glorot_uniform\")`\n",
      "  '` call to the Keras 2 API: ' + signature)\n"
     ]
    },
    {
     "name": "stdout",
     "output_type": "stream",
     "text": [
      "_________________________________________________________________\n",
      "Layer (type)                 Output Shape              Param #   \n",
      "=================================================================\n",
      "time_distributed_1 (TimeDist (10, 10, 200)             324800    \n",
      "_________________________________________________________________\n",
      "lstm_2 (LSTM)                (10, 300)                 601200    \n",
      "_________________________________________________________________\n",
      "dense_1 (Dense)              (10, 100)                 30100     \n",
      "_________________________________________________________________\n",
      "leaky_re_lu_1 (LeakyReLU)    (10, 100)                 0         \n",
      "_________________________________________________________________\n",
      "dense_2 (Dense)              (10, 15)                  1515      \n",
      "_________________________________________________________________\n",
      "activation_1 (Activation)    (10, 15)                  0         \n",
      "=================================================================\n",
      "Total params: 957,615.0\n",
      "Trainable params: 957,615.0\n",
      "Non-trainable params: 0.0\n",
      "_________________________________________________________________\n"
     ]
    }
   ],
   "source": [
    "x = windowize(df, rate, 3)\n",
    "(n_samples, windows, timesteps, features) = x.shape\n",
    "model = build_model(10, windows, timesteps, features)\n",
    "model.summary()"
   ]
  },
  {
   "cell_type": "code",
   "execution_count": null,
   "metadata": {
    "collapsed": true
   },
   "outputs": [],
   "source": []
  }
 ],
 "metadata": {
  "kernelspec": {
   "display_name": "Python 2",
   "language": "python",
   "name": "python2"
  },
  "language_info": {
   "codemirror_mode": {
    "name": "ipython",
    "version": 2
   },
   "file_extension": ".py",
   "mimetype": "text/x-python",
   "name": "python",
   "nbconvert_exporter": "python",
   "pygments_lexer": "ipython2",
   "version": "2.7.13"
  }
 },
 "nbformat": 4,
 "nbformat_minor": 2
}
